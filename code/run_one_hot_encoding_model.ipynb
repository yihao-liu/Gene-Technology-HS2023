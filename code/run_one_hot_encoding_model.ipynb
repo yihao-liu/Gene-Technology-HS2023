{
 "cells": [
  {
   "cell_type": "code",
   "execution_count": 1,
   "id": "c91e7b06",
   "metadata": {},
   "outputs": [],
   "source": [
    "import os\n",
    "import functools\n",
    "from typing import *\n",
    "from glob import glob\n",
    "import pickle\n",
    "\n",
    "import torch\n",
    "import numpy as np\n",
    "import pandas as pd\n",
    "\n",
    "from torch.nn.utils.rnn import pad_sequence\n",
    "from torch.utils.data.dataloader import DataLoader\n",
    "from tqdm.notebook import tqdm\n",
    "from sklearn.model_selection import train_test_split, StratifiedKFold\n",
    "#from sklearn.manifold import TSNE\n",
    "from MulticoreTSNE import MulticoreTSNE as TSNE\n",
    "from sklearn.cluster import KMeans\n",
    "from scipy.spatial import cKDTree\n",
    "import matplotlib.pyplot as plt\n",
    "import seaborn as sns\n",
    "from yellowbrick.features import Manifold\n",
    "from yellowbrick.cluster import KElbowVisualizer, InterclusterDistance, SilhouetteVisualizer\n",
    "from sklearn.preprocessing import normalize\n",
    "from scipy.cluster.hierarchy import dendrogram, linkage\n",
    "from sklearn.cluster import AgglomerativeClustering\n",
    "from altlabs.index_mapping import create_index_mapping\n",
    "from altlabs.dataset import (\n",
    "    noop,\n",
    "    random_roll,\n",
    "    SoftmaxDataset,\n",
    "    limit_sequence_size,\n",
    "    FactorizationDataset,\n",
    ")\n",
    "from altlabs.torch.data import FasterBatchSampler, NoAutoCollationDataLoader\n",
    "from altlabs.utils import Pipeline\n",
    "from pytorch_lightning import seed_everything\n",
    "from sklearn.metrics import top_k_accuracy_score\n",
    "%matplotlib inline"
   ]
  },
  {
   "cell_type": "code",
   "execution_count": 2,
   "id": "e7145fec",
   "metadata": {},
   "outputs": [
    {
     "name": "stdout",
     "output_type": "stream",
     "text": [
      "stripping - WARNING - Not using Catalysis: No module named 'catalysis'\n"
     ]
    }
   ],
   "source": [
    "triplet_model_paths = list(sorted(glob(\"../data/output/b163057a-a12b-4dc4-bc1e-a201546df68e/tensorboard_logs_csv_logs/*/checkpoints/*.ckpt\")))\n",
    "lab_index_mapping_paths = list(sorted(glob(\"../data/output/b163057a-a12b-4dc4-bc1e-a201546df68e/tensorboard_logs_csv_logs/*/lab_index_mapping.pkl\")))\n",
    "from altlabs.model.conv1d_triplet_classifier import Conv1dTripletClassifier, ModelConfig"
   ]
  },
  {
   "cell_type": "code",
   "execution_count": 3,
   "id": "ea104be7",
   "metadata": {},
   "outputs": [],
   "source": [
    "DATA_PATH = \"../data/\""
   ]
  },
  {
   "cell_type": "code",
   "execution_count": 4,
   "id": "b9b14486",
   "metadata": {},
   "outputs": [],
   "source": [
    "device = torch.device(\"cpu\")\n",
    "\n",
    "train_values_df = pd.read_csv(f\"{DATA_PATH}train_values_grouped.csv\")\n",
    "format_df = pd.read_csv(f\"{DATA_PATH}format.csv\")\n",
    "test_values_df = pd.read_csv(f\"{DATA_PATH}test_values.csv\")\n",
    "test_set = pd.read_csv(f\"{DATA_PATH}test_labels.csv\")\n",
    "pub_id = pd.read_csv(f\"{DATA_PATH}pubsubidx.csv\")"
   ]
  },
  {
   "cell_type": "code",
   "execution_count": 5,
   "id": "f7495d1d",
   "metadata": {},
   "outputs": [],
   "source": [
    "pub_index = pub_id[pub_id.public==True].index\n",
    "private_index = pub_id[pub_id.public==False].index"
   ]
  },
  {
   "cell_type": "code",
   "execution_count": 6,
   "id": "3064a215",
   "metadata": {},
   "outputs": [],
   "source": [
    "from datetime import datetime\n",
    "time_init = datetime.now()\n",
    "\n",
    "seed_everything(350)\n",
    "\n",
    "def predict_dataset(model: Conv1dTripletClassifier, dataset: FactorizationDataset, tta_steps: int) -> np.ndarray:\n",
    "    batch_sampler = FasterBatchSampler(\n",
    "        dataset, 32, shuffle=False,\n",
    "    )\n",
    "\n",
    "    model.to(device)\n",
    "\n",
    "    predictions: List[List[float]] = []\n",
    "    with torch.no_grad():\n",
    "        for indices in batch_sampler:\n",
    "            if tta_steps > 0:\n",
    "                tta_predictions = []\n",
    "                for i in range(tta_steps):\n",
    "                    batch = dataset[indices]\n",
    "                    if isinstance(batch[0], tuple):\n",
    "                        (sequences, extra_inputs, _) = batch[\n",
    "                            0\n",
    "                        ]  # type: (torch.Tensor, torch.Tensor, torch.Tensor)\n",
    "                    else:\n",
    "                        (sequences, extra_inputs) = batch\n",
    "                    outputs = model.predict_lab_scores(\n",
    "                        sequences.to(device), extra_inputs.to(device)\n",
    "                    ).tolist()\n",
    "                    tta_predictions.append(np.array(outputs))\n",
    "                predictions.extend(\n",
    "                    np.mean(np.array(tta_predictions), axis=0).tolist()\n",
    "                )\n",
    "            else:\n",
    "                batch = dataset[indices]\n",
    "                if isinstance(batch[0], tuple):\n",
    "                    (sequences, extra_inputs, _) = batch[\n",
    "                        0\n",
    "                    ]  # type: (torch.Tensor, torch.Tensor, torch.Tensor)\n",
    "                else:\n",
    "                    (sequences, extra_inputs) = batch\n",
    "                outputs = model.predict_lab_scores(\n",
    "                    sequences.to(device), extra_inputs.to(device)\n",
    "                ).tolist()\n",
    "                predictions.extend(outputs)\n",
    "\n",
    "    return np.array(predictions)\n",
    "\n",
    "sequence_index_mapping = create_index_mapping(\n",
    "\"ATGC\", include_unkown=True, include_none=False,\n",
    ")\n",
    "sequence_index_mapping[\"N\"] = 0\n",
    "input_columns = train_values_df.drop(columns=[\"sequence_id\", \"groups\", \"output\"]).columns\n",
    "\n",
    "fold_output = []\n",
    "for triplet_model_path, lab_index_mapping_path in zip(triplet_model_paths, lab_index_mapping_paths):\n",
    "    model = Conv1dTripletClassifier.load_from_checkpoint(triplet_model_path)\n",
    "    with open(lab_index_mapping_path, \"rb\") as f:\n",
    "        lab_index_mapping = pickle.load(f)\n",
    "    dataset = FactorizationDataset(\n",
    "        test_values_df,\n",
    "        sequence_index_mapping,\n",
    "        lab_index_mapping,\n",
    "        input_columns,\n",
    "        lab_column=\"output\",\n",
    "        negative_proportion=0.0,\n",
    "        transform_sequence_fn=random_roll,\n",
    "        test=True,\n",
    "        bpe=False,\n",
    "    )\n",
    "\n",
    "    outputs = predict_dataset(model, dataset, 10)\n",
    "    fold_output.append(outputs)\n",
    "final_outputs = np.mean(fold_output, axis=0)\n",
    "\n",
    "for lab in format_df.columns[1:]:\n",
    "    lab_index = lab_index_mapping[lab]\n",
    "    format_df[lab] = final_outputs[:, lab_index]\n",
    "\n",
    "format_df = format_df.round(6)\n",
    "\n",
    "finish_time = datetime.now()\n",
    "    "
   ]
  },
  {
   "cell_type": "code",
   "execution_count": 7,
   "id": "9c8180ba",
   "metadata": {},
   "outputs": [
    {
     "data": {
      "text/plain": [
       "datetime.timedelta(seconds=5924, microseconds=973022)"
      ]
     },
     "metadata": {},
     "output_type": "display_data"
    }
   ],
   "source": [
    "display(finish_time - time_init)"
   ]
  },
  {
   "cell_type": "code",
   "execution_count": 8,
   "id": "fd115924",
   "metadata": {},
   "outputs": [
    {
     "data": {
      "text/plain": [
       "18816"
      ]
     },
     "execution_count": 8,
     "metadata": {},
     "output_type": "execute_result"
    }
   ],
   "source": [
    "len(test_values_df)"
   ]
  },
  {
   "cell_type": "code",
   "execution_count": 9,
   "id": "84f8ae9c",
   "metadata": {},
   "outputs": [
    {
     "data": {
      "text/plain": [
       "'Triplet model top-10 private score: 0.7762311690599947'"
      ]
     },
     "metadata": {},
     "output_type": "display_data"
    },
    {
     "data": {
      "text/plain": [
       "'Triplet model top-1 private score: 0.5190732094088627'"
      ]
     },
     "metadata": {},
     "output_type": "display_data"
    },
    {
     "data": {
      "text/plain": [
       "'Triplet model top-10 public score: 0.8053583389149364'"
      ]
     },
     "metadata": {},
     "output_type": "display_data"
    },
    {
     "data": {
      "text/plain": [
       "'Triplet model top-1 public score: 0.5713328868050904'"
      ]
     },
     "metadata": {},
     "output_type": "display_data"
    },
    {
     "data": {
      "text/plain": [
       "'Triplet model top-10 total score: 0.7877869897959183'"
      ]
     },
     "metadata": {},
     "output_type": "display_data"
    },
    {
     "data": {
      "text/plain": [
       "'Triplet model top-1 total score: 0.5398065476190477'"
      ]
     },
     "metadata": {},
     "output_type": "display_data"
    }
   ],
   "source": [
    "pub_best_sub = format_df[format_df.index.isin(pub_index)]\n",
    "private_best_sub = format_df[format_df.index.isin(private_index)]\n",
    "private_test = test_set[test_set.index.isin(private_index)]\n",
    "public_test = test_set[test_set.index.isin(pub_index)]\n",
    "private_labels = private_test.drop(columns=\"sequence_id\").values.argmax(axis=1)\n",
    "public_labels = public_test.drop(columns=\"sequence_id\").values.argmax(axis=1)\n",
    "\n",
    "top_10_score_private = top_k_accuracy_score(private_labels, private_best_sub.drop(columns=\"sequence_id\").values, k=10, labels=range(0,1314))\n",
    "\n",
    "top_1_score_private = top_k_accuracy_score(private_labels, private_best_sub.drop(columns=\"sequence_id\").values, k=1, labels=range(0,1314))\n",
    "\n",
    "top_10_score_public = top_k_accuracy_score(public_labels, pub_best_sub.drop(columns=\"sequence_id\").values, k=10, labels=range(0,1314))\n",
    "\n",
    "top_1_score_public = top_k_accuracy_score(public_labels, pub_best_sub.drop(columns=\"sequence_id\").values, k=1, labels=range(0,1314))\n",
    "\n",
    "top_10_score_total = top_k_accuracy_score(test_set.drop(columns=\"sequence_id\").values.argmax(axis=1), format_df.drop(columns=\"sequence_id\").values, k=10, labels=range(0,1314))\n",
    "\n",
    "top_1_score_total = top_k_accuracy_score(test_set.drop(columns=\"sequence_id\").values.argmax(axis=1), format_df.drop(columns=\"sequence_id\").values, k=1, labels=range(0,1314))\n",
    "\n",
    "\n",
    "\n",
    "display(f\"Triplet model top-10 private score: {top_10_score_private}\")\n",
    "\n",
    "display(f\"Triplet model top-1 private score: {top_1_score_private}\")\n",
    "\n",
    "\n",
    "display(f\"Triplet model top-10 public score: {top_10_score_public}\")\n",
    "\n",
    "display(f\"Triplet model top-1 public score: {top_1_score_public}\")\n",
    "\n",
    "display(f\"Triplet model top-10 total score: {top_10_score_total}\")\n",
    "\n",
    "display(f\"Triplet model top-1 total score: {top_1_score_total}\")"
   ]
  },
  {
   "cell_type": "markdown",
   "id": "d7a20e76",
   "metadata": {},
   "source": [
    "Seq size 1000"
   ]
  },
  {
   "cell_type": "code",
   "execution_count": 10,
   "id": "ea7a933a",
   "metadata": {},
   "outputs": [],
   "source": [
    "triplet_model_paths = list(sorted(glob(\"output/0f853ccf-777d-4158-b08d-ad3c537b3ce4/tensorboard_logs_csv_logs/*/checkpoints/*.ckpt\")))\n",
    "lab_index_mapping_paths = list(sorted(glob(\"output/0f853ccf-777d-4158-b08d-ad3c537b3ce4/tensorboard_logs_csv_logs/*/lab_index_mapping.pkl\")))\n",
    "from altlabs.model.conv1d_triplet_classifier import Conv1dTripletClassifier, ModelConfig"
   ]
  },
  {
   "cell_type": "code",
   "execution_count": null,
   "id": "917fd6a5",
   "metadata": {},
   "outputs": [],
   "source": [
    "seed_everything(350)\n",
    "def predict_dataset(model: Conv1dTripletClassifier, dataset: FactorizationDataset, tta_steps: int) -> np.ndarray:\n",
    "    batch_sampler = FasterBatchSampler(\n",
    "        dataset, 32, shuffle=False,\n",
    "    )\n",
    "\n",
    "    model.to(device)\n",
    "\n",
    "    predictions: List[List[float]] = []\n",
    "    with torch.no_grad():\n",
    "        for indices in batch_sampler:\n",
    "            if tta_steps > 0:\n",
    "                tta_predictions = []\n",
    "                for i in range(tta_steps):\n",
    "                    batch = dataset[indices]\n",
    "                    if isinstance(batch[0], tuple):\n",
    "                        (sequences, extra_inputs, _) = batch[\n",
    "                            0\n",
    "                        ]  # type: (torch.Tensor, torch.Tensor, torch.Tensor)\n",
    "                    else:\n",
    "                        (sequences, extra_inputs) = batch\n",
    "                    outputs = model.predict_lab_scores(\n",
    "                        sequences.to(device), extra_inputs.to(device)\n",
    "                    ).tolist()\n",
    "                    tta_predictions.append(np.array(outputs))\n",
    "                predictions.extend(\n",
    "                    np.mean(np.array(tta_predictions), axis=0).tolist()\n",
    "                )\n",
    "            else:\n",
    "                batch = dataset[indices]\n",
    "                if isinstance(batch[0], tuple):\n",
    "                    (sequences, extra_inputs, _) = batch[\n",
    "                        0\n",
    "                    ]  # type: (torch.Tensor, torch.Tensor, torch.Tensor)\n",
    "                else:\n",
    "                    (sequences, extra_inputs) = batch\n",
    "                outputs = model.predict_lab_scores(\n",
    "                    sequences.to(device), extra_inputs.to(device)\n",
    "                ).tolist()\n",
    "                predictions.extend(outputs)\n",
    "\n",
    "    return np.array(predictions)\n",
    "\n",
    "sequence_index_mapping = create_index_mapping(\n",
    "\"ATGC\", include_unkown=True, include_none=False,\n",
    ")\n",
    "sequence_index_mapping[\"N\"] = 0\n",
    "input_columns = train_values_df.drop(columns=[\"sequence_id\", \"groups\", \"output\"]).columns\n",
    "\n",
    "fold_output = []\n",
    "for triplet_model_path, lab_index_mapping_path in zip(triplet_model_paths, lab_index_mapping_paths):\n",
    "    model = Conv1dTripletClassifier.load_from_checkpoint(triplet_model_path)\n",
    "    with open(lab_index_mapping_path, \"rb\") as f:\n",
    "        lab_index_mapping = pickle.load(f)\n",
    "    dataset = FactorizationDataset(\n",
    "        test_values_df,\n",
    "        sequence_index_mapping,\n",
    "        lab_index_mapping,\n",
    "        input_columns,\n",
    "        lab_column=\"output\",\n",
    "        negative_proportion=0.0,\n",
    "        transform_sequence_fn=random_roll,\n",
    "        test=True,\n",
    "        bpe=False,\n",
    "    )\n",
    "\n",
    "    outputs = predict_dataset(model, dataset, 10)\n",
    "    fold_output.append(outputs)\n",
    "final_outputs = np.mean(fold_output, axis=0)\n",
    "\n",
    "for lab in format_df.columns[1:]:\n",
    "    lab_index = lab_index_mapping[lab]\n",
    "    format_df[lab] = final_outputs[:, lab_index]\n",
    "\n",
    "format_df = format_df.round(6)\n",
    "\n",
    "\n",
    "    "
   ]
  },
  {
   "cell_type": "code",
   "execution_count": null,
   "id": "e88c97df",
   "metadata": {},
   "outputs": [],
   "source": [
    "pub_best_sub = format_df[format_df.index.isin(pub_index)]\n",
    "private_best_sub = format_df[format_df.index.isin(private_index)]\n",
    "private_test = test_set[test_set.index.isin(private_index)]\n",
    "public_test = test_set[test_set.index.isin(pub_index)]\n",
    "private_labels = private_test.drop(columns=\"sequence_id\").values.argmax(axis=1)\n",
    "public_labels = public_test.drop(columns=\"sequence_id\").values.argmax(axis=1)\n",
    "\n",
    "top_10_score_private_1000 = top_k_accuracy_score(private_labels, private_best_sub.drop(columns=\"sequence_id\").values, k=10, labels=range(0,1314))\n",
    "\n",
    "top_1_score_private_1000 = top_k_accuracy_score(private_labels, private_best_sub.drop(columns=\"sequence_id\").values, k=1, labels=range(0,1314))\n",
    "\n",
    "top_10_score_public_1000 = top_k_accuracy_score(public_labels, pub_best_sub.drop(columns=\"sequence_id\").values, k=10, labels=range(0,1314))\n",
    "\n",
    "top_1_score_public_1000 = top_k_accuracy_score(public_labels, pub_best_sub.drop(columns=\"sequence_id\").values, k=1, labels=range(0,1314))\n",
    "\n",
    "top_10_score_total_1000 = top_k_accuracy_score(test_set.drop(columns=\"sequence_id\").values.argmax(axis=1), format_df.drop(columns=\"sequence_id\").values, k=10, labels=range(0,1314))\n",
    "\n",
    "top_1_score_total_1000 = top_k_accuracy_score(test_set.drop(columns=\"sequence_id\").values.argmax(axis=1), format_df.drop(columns=\"sequence_id\").values, k=1, labels=range(0,1314))\n",
    "\n",
    "\n",
    "\n",
    "display(f\"Triplet model top-10 private score: {top_10_score_private_1000}\")\n",
    "\n",
    "display(f\"Triplet model top-1 private score: {top_1_score_private_1000}\")\n",
    "\n",
    "\n",
    "display(f\"Triplet model top-10 public score: {top_10_score_public_1000}\")\n",
    "\n",
    "display(f\"Triplet model top-1 public score: {top_1_score_public_1000}\")\n",
    "\n",
    "display(f\"Triplet model top-10 total score: {top_10_score_total_1000}\")\n",
    "\n",
    "display(f\"Triplet model top-1 total score: {top_1_score_total_1000}\")"
   ]
  },
  {
   "cell_type": "code",
   "execution_count": 14,
   "id": "1752288e",
   "metadata": {},
   "outputs": [
    {
     "data": {
      "text/plain": [
       "'Triplet model top-1 total score: 0.39540816326530615'"
      ]
     },
     "metadata": {},
     "output_type": "display_data"
    }
   ],
   "source": [
    "display(f\"Triplet model top-1 total score: {top_1_score_total_1000}\")"
   ]
  },
  {
   "cell_type": "code",
   "execution_count": 15,
   "id": "99ce77ee",
   "metadata": {},
   "outputs": [],
   "source": [
    "import os\n",
    "RESULTS_PATH = \"../results/\"\n",
    "\n",
    "if os.path.exists(f\"{RESULTS_PATH}results.csv\"):\n",
    "    result_df = pd.read_csv(f\"{RESULTS_PATH}results.csv\")\n",
    "else:\n",
    "    result_df = pd.DataFrame([], columns=[\"Model\", \"Top 10 Score\", \"Top 1 Score\", \"Top 10 New Data Score\", \"Top 1 New Data Score\", \"Top 10 Total Score\", \"Top 1 Total Score\"])\n",
    "    \n",
    "\n",
    "result_df = result_df.append({\"Model\": \"One Hot Encoded - Seq Limit 4000\", \n",
    "                              \"Top 10 Score\": top_10_score_private, \"Top 1 Score\": top_1_score_private, \n",
    "                              \"Top 10 New Data Score\": top_10_score_public, \"Top 1 New Data Score\": top_1_score_public,\n",
    "                             \"Top 10 Total Score\": top_10_score_total, \"Top 1 Total Score\": top_1_score_total}, ignore_index=True)\n",
    "\n",
    "result_df = result_df.append({\"Model\": \"One Hot Encoded - Seq Limit 1000\", \n",
    "                              \"Top 10 Score\": top_10_score_private_1000, \"Top 1 Score\": top_1_score_private_1000, \n",
    "                              \"Top 10 New Data Score\": top_10_score_public_1000, \"Top 1 New Data Score\": top_1_score_public_1000,\n",
    "                             \"Top 10 Total Score\": top_10_score_total_1000, \"Top 1 Total Score\": top_1_score_total_1000}, ignore_index=True)\n",
    "\n",
    "result_df.to_csv(f\"{RESULTS_PATH}results.csv\", index=False)"
   ]
  },
  {
   "cell_type": "code",
   "execution_count": null,
   "id": "ed7dd312",
   "metadata": {},
   "outputs": [],
   "source": []
  }
 ],
 "metadata": {
  "kernelspec": {
   "display_name": "Python (altlabs)",
   "language": "python",
   "name": "altlabs"
  },
  "language_info": {
   "codemirror_mode": {
    "name": "ipython",
    "version": 3
   },
   "file_extension": ".py",
   "mimetype": "text/x-python",
   "name": "python",
   "nbconvert_exporter": "python",
   "pygments_lexer": "ipython3",
   "version": "3.7.9"
  }
 },
 "nbformat": 4,
 "nbformat_minor": 5
}
